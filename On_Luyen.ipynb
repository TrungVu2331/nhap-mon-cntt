{
  "nbformat": 4,
  "nbformat_minor": 0,
  "metadata": {
    "colab": {
      "provenance": []
    },
    "kernelspec": {
      "name": "python3",
      "display_name": "Python 3"
    },
    "language_info": {
      "name": "python"
    }
  },
  "cells": [
    {
      "cell_type": "markdown",
      "source": [
        "câu A\n"
      ],
      "metadata": {
        "id": "3c174ABYeV_P"
      }
    },
    {
      "cell_type": "code",
      "source": [],
      "metadata": {
        "id": "Aeng5HlT9pQC"
      },
      "execution_count": null,
      "outputs": []
    },
    {
      "cell_type": "code",
      "source": [
        "x=int(input())\n",
        "print(x)"
      ],
      "metadata": {
        "colab": {
          "base_uri": "https://localhost:8080/"
        },
        "id": "6cu4aG_qeYqs",
        "outputId": "bd478bef-e877-42d0-fc39-f4ecff8f92ac"
      },
      "execution_count": null,
      "outputs": [
        {
          "output_type": "stream",
          "name": "stdout",
          "text": [
            "698\n",
            "698\n"
          ]
        }
      ]
    },
    {
      "cell_type": "markdown",
      "source": [
        "câu B"
      ],
      "metadata": {
        "id": "VB_9m8WXe9zM"
      }
    },
    {
      "cell_type": "code",
      "source": [
        "n = int(input())\n",
        "m=int(input())\n",
        "print(n%m)"
      ],
      "metadata": {
        "colab": {
          "base_uri": "https://localhost:8080/"
        },
        "id": "4JtlaI3te-uD",
        "outputId": "2347cd25-2ea6-44de-b55a-29881b5eb63b"
      },
      "execution_count": null,
      "outputs": [
        {
          "output_type": "stream",
          "name": "stdout",
          "text": [
            "2064\n",
            "4\n",
            "0\n"
          ]
        }
      ]
    },
    {
      "cell_type": "markdown",
      "source": [
        "câu C"
      ],
      "metadata": {
        "id": "1-7mvbFPgggF"
      }
    },
    {
      "cell_type": "code",
      "source": [
        "n=int(input())\n",
        "m=int(input())\n",
        "print(n/m)"
      ],
      "metadata": {
        "colab": {
          "base_uri": "https://localhost:8080/"
        },
        "id": "-l3GhgYQgh1i",
        "outputId": "655c19f0-d96b-4fad-9f77-82f1f7dc7d55"
      },
      "execution_count": null,
      "outputs": [
        {
          "output_type": "stream",
          "name": "stdout",
          "text": [
            "2064\n",
            "4\n",
            "516.0\n"
          ]
        }
      ]
    },
    {
      "cell_type": "markdown",
      "source": [
        "câu D\n"
      ],
      "metadata": {
        "id": "8kHo9SLsgy3b"
      }
    },
    {
      "cell_type": "code",
      "source": [
        "import math\n",
        "x=float(input())\n",
        "cos_x=round(math.cos(x), 3)\n",
        "sin_x=round(math.sin(x), 3)\n",
        "tan_x=round(math.tan(x), 3)\n",
        "cotan_x=round(1 / math.tan(x), 3)\n",
        "print(f'{cos_x} {sin_x} {tan_x} {cotan_x}')"
      ],
      "metadata": {
        "colab": {
          "base_uri": "https://localhost:8080/"
        },
        "id": "WQnhOg2ggzja",
        "outputId": "44cc5e1b-5029-4ce0-b54a-3e14b706c906"
      },
      "execution_count": null,
      "outputs": [
        {
          "output_type": "stream",
          "name": "stdout",
          "text": [
            "0.112\n",
            "0.994 0.112 0.112 8.891\n"
          ]
        }
      ]
    },
    {
      "cell_type": "markdown",
      "source": [
        "câu E\n"
      ],
      "metadata": {
        "id": "0D3tjqaEl8xP"
      }
    },
    {
      "cell_type": "markdown",
      "source": [],
      "metadata": {
        "id": "UARXvVHr_6_Z"
      }
    },
    {
      "cell_type": "code",
      "source": [
        "n=int(input())\n",
        "if n%2 == 0:\n",
        "  print(\"YES\")\n",
        "else:\n",
        "  print(\"NO\")"
      ],
      "metadata": {
        "colab": {
          "base_uri": "https://localhost:8080/"
        },
        "id": "0fTrPKydl-Le",
        "outputId": "17aa6f41-f622-4da1-9e7c-cbae0020f624"
      },
      "execution_count": null,
      "outputs": [
        {
          "output_type": "stream",
          "name": "stdout",
          "text": [
            "588\n",
            "YES\n"
          ]
        }
      ]
    },
    {
      "cell_type": "markdown",
      "source": [
        "câu F"
      ],
      "metadata": {
        "id": "_nTUB6UCmll3"
      }
    },
    {
      "cell_type": "code",
      "source": [
        "n=int(input())\n",
        "can_n=int(n**0.5)\n",
        "if can_n * can_n == n:\n",
        "  print(\"YES\")\n",
        "else:\n",
        "  print(\"NO\")"
      ],
      "metadata": {
        "colab": {
          "base_uri": "https://localhost:8080/"
        },
        "id": "uQZIgOO3mv51",
        "outputId": "521b98a7-a1c5-4619-a78b-e0164fe2930c"
      },
      "execution_count": null,
      "outputs": [
        {
          "output_type": "stream",
          "name": "stdout",
          "text": [
            "495\n",
            "NO\n"
          ]
        }
      ]
    },
    {
      "cell_type": "markdown",
      "source": [
        "câu G"
      ],
      "metadata": {
        "id": "caVR1B08oEeW"
      }
    },
    {
      "cell_type": "code",
      "source": [
        "a=float(input())\n",
        "b=float(input())\n",
        "if a==0 and b!=0:\n",
        "  print(\"VN\")\n",
        "else:\n",
        "  print('%0.3f'%(-b/a))"
      ],
      "metadata": {
        "colab": {
          "base_uri": "https://localhost:8080/"
        },
        "id": "KosInKABocTM",
        "outputId": "71656f0f-6ed2-4929-c72e-fcb8d992d1c6"
      },
      "execution_count": null,
      "outputs": [
        {
          "output_type": "stream",
          "name": "stdout",
          "text": [
            "22\n",
            "0\n",
            "-0.000\n"
          ]
        }
      ]
    },
    {
      "cell_type": "markdown",
      "source": [
        "câu H\n"
      ],
      "metadata": {
        "id": "2VO1LlwUqB8F"
      }
    },
    {
      "cell_type": "code",
      "source": [
        "import math\n",
        "x=int(input())\n",
        "y=math.sqrt(x)\n",
        "print('%0.3f'%y)"
      ],
      "metadata": {
        "colab": {
          "base_uri": "https://localhost:8080/"
        },
        "id": "ItNEJCK4qDpr",
        "outputId": "9cc1d897-17c7-461f-905a-e28e6929723d"
      },
      "execution_count": null,
      "outputs": [
        {
          "output_type": "stream",
          "name": "stdout",
          "text": [
            "344\n",
            "18.547\n"
          ]
        }
      ]
    },
    {
      "cell_type": "markdown",
      "source": [
        "câu I\n"
      ],
      "metadata": {
        "id": "TDW1jKjAqyHM"
      }
    },
    {
      "cell_type": "code",
      "source": [
        "a ,b ,c= map(int,input().split())\n",
        "so_min = min(a ,b ,c)\n",
        "so_max = max(a ,b ,c)\n",
        "print(so_min , so_max)"
      ],
      "metadata": {
        "colab": {
          "base_uri": "https://localhost:8080/"
        },
        "id": "h7T622E2tNuq",
        "outputId": "b467595c-ea66-4f4c-89a6-3bb7e77ae552"
      },
      "execution_count": null,
      "outputs": [
        {
          "output_type": "stream",
          "name": "stdout",
          "text": [
            "31 1032 4096\n",
            "31 4096\n"
          ]
        }
      ]
    },
    {
      "cell_type": "markdown",
      "source": [
        "Câu J"
      ],
      "metadata": {
        "id": "Nbbru8MiNbx6"
      }
    },
    {
      "cell_type": "code",
      "source": [
        "a ,b ,c= map(int,input().split())\n",
        "if a>0 and b>0 and c>0:\n",
        "  if a+b>c or a+c>b or b+c>a:\n",
        "   print(\"YES\")\n",
        "  else:\n",
        "   print(\"NO\")\n",
        "else:\n",
        "  print(\"NO\")"
      ],
      "metadata": {
        "colab": {
          "base_uri": "https://localhost:8080/"
        },
        "id": "5aryl_vlNcwB",
        "outputId": "c0ba487c-2832-4eb2-fb70-aca9e5cc9f43"
      },
      "execution_count": null,
      "outputs": [
        {
          "output_type": "stream",
          "name": "stdout",
          "text": [
            "7 8 9\n",
            "YES\n"
          ]
        }
      ]
    },
    {
      "cell_type": "markdown",
      "source": [
        "Câu K"
      ],
      "metadata": {
        "id": "ZlsWbBzIPMFZ"
      }
    },
    {
      "cell_type": "code",
      "source": [
        "a, b, c= map(int, input().split())\n",
        "if a>0 and b>0 and c>0:\n",
        "  if a**2 + b**2 == c**2 or a**2 + c**2 == b**2 or b**2 + c**2 == a**2:\n",
        "    print(\"YES\")\n",
        "  else:\n",
        "    print(\"NO\")\n",
        "else:\n",
        "  print(\"NO\")"
      ],
      "metadata": {
        "colab": {
          "base_uri": "https://localhost:8080/"
        },
        "id": "9SZDvAs5PNBP",
        "outputId": "810ad7a4-0ed5-45aa-ecbf-0f2176fc5008"
      },
      "execution_count": null,
      "outputs": [
        {
          "output_type": "stream",
          "name": "stdout",
          "text": [
            "3 4 5\n",
            "YES\n"
          ]
        }
      ]
    },
    {
      "cell_type": "markdown",
      "source": [
        "câu L"
      ],
      "metadata": {
        "id": "VAeLjBZbQ0Ag"
      }
    },
    {
      "cell_type": "code",
      "source": [
        "x1,y1= map(int, input().split())\n",
        "x2,y2= map(int, input().split())\n",
        "x3,y3= map(int, input().split())\n",
        "a=(y2-y1) / (x2-x1) if x2 - x1 != 0 else float('inf')\n",
        "b=(y3-y1) / (x3-x1) if x3 - x1 !=0 else float('inf')\n",
        "if a == b:\n",
        "  print(\"YES\")\n",
        "else:\n",
        "  print(\"NO\")\n"
      ],
      "metadata": {
        "colab": {
          "base_uri": "https://localhost:8080/"
        },
        "id": "pFRBShNxQ0ue",
        "outputId": "f972e088-a48a-4e84-b2f5-c6b6cf566db8"
      },
      "execution_count": null,
      "outputs": [
        {
          "output_type": "stream",
          "name": "stdout",
          "text": [
            "0 0 \n",
            "1 1 \n",
            "2 2\n",
            "YES\n"
          ]
        }
      ]
    },
    {
      "cell_type": "markdown",
      "source": [
        "Câu M\n"
      ],
      "metadata": {
        "id": "PPB4M7kQ9qYA"
      }
    },
    {
      "cell_type": "code",
      "source": [
        "x=int(input())\n",
        "a=list(map(int,input().split()))\n",
        "for c in a:\n",
        "  print(c, end=\" \")"
      ],
      "metadata": {
        "colab": {
          "base_uri": "https://localhost:8080/"
        },
        "id": "jVR7ktCs90UX",
        "outputId": "74efbb24-237b-4bbf-9ac6-a2c717a33078"
      },
      "execution_count": null,
      "outputs": [
        {
          "output_type": "stream",
          "name": "stdout",
          "text": [
            "5\n",
            "5 4 3 2 1\n",
            "5 4 3 2 1 "
          ]
        }
      ]
    },
    {
      "cell_type": "markdown",
      "source": [
        "Câu N"
      ],
      "metadata": {
        "id": "33w4url3-f5B"
      }
    },
    {
      "cell_type": "code",
      "source": [
        "x=int(input())\n",
        "Sn=0\n",
        "for i in range(1,x+1):\n",
        "  Sn+=i\n",
        "print(Sn)"
      ],
      "metadata": {
        "colab": {
          "base_uri": "https://localhost:8080/"
        },
        "id": "iTAcEI9p-he3",
        "outputId": "0fc75bf3-3430-4c61-9f22-ab89fc4a6357"
      },
      "execution_count": null,
      "outputs": [
        {
          "output_type": "stream",
          "name": "stdout",
          "text": [
            "5\n",
            "15\n"
          ]
        }
      ]
    },
    {
      "cell_type": "markdown",
      "source": [
        "Câu O"
      ],
      "metadata": {
        "id": "IIA6c6eH_ZVv"
      }
    },
    {
      "cell_type": "code",
      "source": [
        "n=int(input())\n",
        "a=map(int,input().split())\n",
        "so_duong=[num for num in a if num > 0]\n",
        "m=len(so_duong)\n",
        "if m==0:\n",
        "  print(\"Day so khong co phan tu duong\")\n",
        "else:\n",
        "  print(m)\n",
        "  print(*so_duong)"
      ],
      "metadata": {
        "colab": {
          "base_uri": "https://localhost:8080/"
        },
        "id": "IPqAAx42_aXW",
        "outputId": "d0cdfd9b-1a24-433a-ce85-8667eef00b0c"
      },
      "execution_count": null,
      "outputs": [
        {
          "output_type": "stream",
          "name": "stdout",
          "text": [
            "6\n",
            "1 2 -3 4 6 8\n",
            "5\n",
            "1 2 4 6 8\n"
          ]
        }
      ]
    },
    {
      "cell_type": "markdown",
      "source": [
        "câu P\n"
      ],
      "metadata": {
        "id": "POmdgXpoBMM3"
      }
    },
    {
      "cell_type": "code",
      "source": [
        "n=int(input())\n",
        "x=list(map(int,input().split()))\n",
        "y=list(map(int,input().split()))\n",
        "Tich_vo_huong=0\n",
        "for i in range(n):\n",
        "  Tich_vo_huong += x[i] * y[i]\n",
        "print(Tich_vo_huong)"
      ],
      "metadata": {
        "colab": {
          "base_uri": "https://localhost:8080/"
        },
        "id": "5mPOfgStBNbM",
        "outputId": "a9e10309-7cec-400e-c7c6-72305fb117e3"
      },
      "execution_count": null,
      "outputs": [
        {
          "output_type": "stream",
          "name": "stdout",
          "text": [
            "3\n",
            "1 2 3\n",
            "0 1 2\n",
            "8\n"
          ]
        }
      ]
    },
    {
      "cell_type": "markdown",
      "source": [
        "Câu Q\n"
      ],
      "metadata": {
        "id": "dzfowSnKCfKu"
      }
    },
    {
      "cell_type": "code",
      "source": [
        "n=int(input())\n",
        "x=list(map(int,input().split()))\n",
        "Tong=0\n",
        "so_hang = 0\n",
        "for num in x:\n",
        " if num >=0:\n",
        "  Tong += 1\n",
        "  so_hang += num\n",
        "if Tong>0:\n",
        "  Trung_binh_cong=so_hang / Tong\n",
        "else:\n",
        "  Trung_binh_cong == 0\n",
        "print('%0.3f'%Trung_binh_cong)\n"
      ],
      "metadata": {
        "colab": {
          "base_uri": "https://localhost:8080/"
        },
        "id": "esNFAwkaCgfb",
        "outputId": "2eb799b2-88d6-434c-92db-3118c8fe21a3"
      },
      "execution_count": null,
      "outputs": [
        {
          "output_type": "stream",
          "name": "stdout",
          "text": [
            "5\n",
            "1 -2 -3 0 9\n",
            "3.333\n"
          ]
        }
      ]
    },
    {
      "cell_type": "markdown",
      "source": [
        "bài R"
      ],
      "metadata": {
        "id": "k0QsjFPqEzIO"
      }
    },
    {
      "cell_type": "code",
      "source": [
        "n=int(input())\n",
        "x=list(map(int,input().split()))\n",
        "so_lan_xuat_hien={}\n",
        "for num in x:\n",
        "  if num in so_lan_xuat_hien:\n",
        "    so_lan_xuat_hien[num] += 1\n",
        "  else:\n",
        "    so_lan_xuat_hien[num] = 1\n",
        "phan_tu_khac_nhau=sorted(so_lan_xuat_hien)\n",
        "print(len(phan_tu_khac_nhau))\n",
        "for num in phan_tu_khac_nhau:\n",
        "  print(num , so_lan_xuat_hien[num])\n",
        "\n"
      ],
      "metadata": {
        "colab": {
          "base_uri": "https://localhost:8080/"
        },
        "id": "uNm35JfOE1mJ",
        "outputId": "839a7433-a086-447f-af05-4c944b24a72e"
      },
      "execution_count": null,
      "outputs": [
        {
          "output_type": "stream",
          "name": "stdout",
          "text": [
            "5\n",
            "1 4 5 6 7\n",
            "5\n",
            "1 1\n",
            "4 1\n",
            "5 1\n",
            "6 1\n",
            "7 1\n"
          ]
        }
      ]
    },
    {
      "cell_type": "markdown",
      "source": [
        "bài S"
      ],
      "metadata": {
        "id": "xhTsrUpAmpr8"
      }
    },
    {
      "cell_type": "code",
      "source": [
        "import math\n",
        "x=int(input())\n",
        "if x<2:\n",
        "  print(\"NO\")\n",
        "else:\n",
        "  for i in range(2,int(math.sqrt(x)+1)):\n",
        "    if x % i ==0:\n",
        "      print(\"NO\")\n",
        "    else:\n",
        "      print(\"YES\")\n",
        "\n"
      ],
      "metadata": {
        "colab": {
          "base_uri": "https://localhost:8080/"
        },
        "id": "uX4ReqD4mrjR",
        "outputId": "42a369c3-d775-4506-b101-b029a51ef242"
      },
      "execution_count": null,
      "outputs": [
        {
          "output_type": "stream",
          "name": "stdout",
          "text": [
            "5\n",
            "YES\n"
          ]
        }
      ]
    },
    {
      "cell_type": "markdown",
      "source": [
        "bài T"
      ],
      "metadata": {
        "id": "22ZUXC8QpAUI"
      }
    },
    {
      "cell_type": "code",
      "source": [
        "n ,x=map(int,input().split())\n",
        "so=list(map(int,input().split()))\n",
        "lon_hon=0\n",
        "for num in so:\n",
        "  if num >x:\n",
        "    lon_hon +=1\n",
        "print(lon_hon)"
      ],
      "metadata": {
        "colab": {
          "base_uri": "https://localhost:8080/"
        },
        "id": "5NhaKsoxpEGm",
        "outputId": "88b86208-7a3f-4c75-feef-174c19d1c076"
      },
      "execution_count": null,
      "outputs": [
        {
          "output_type": "stream",
          "name": "stdout",
          "text": [
            "1 2\n",
            "3 4 5 6 \n",
            "4\n"
          ]
        }
      ]
    },
    {
      "cell_type": "markdown",
      "source": [
        "bài U\n"
      ],
      "metadata": {
        "id": "7OFdT7GDqYRx"
      }
    },
    {
      "cell_type": "code",
      "source": [
        "n=int(input())\n",
        "x=list(map(int,input().split()))\n",
        "Tong=sum(x)\n",
        "tbc=Tong/n\n",
        "print('%0.3f'%tbc)"
      ],
      "metadata": {
        "colab": {
          "base_uri": "https://localhost:8080/"
        },
        "id": "AFyakCVFqZj1",
        "outputId": "585f6786-5ad3-4551-8a00-23cf1b46d615"
      },
      "execution_count": null,
      "outputs": [
        {
          "output_type": "stream",
          "name": "stdout",
          "text": [
            "3\n",
            "1 2 9\n",
            "4.000\n"
          ]
        }
      ]
    },
    {
      "cell_type": "markdown",
      "source": [
        "bài V"
      ],
      "metadata": {
        "id": "Y2fXv8lErMMA"
      }
    },
    {
      "cell_type": "code",
      "source": [
        "n=int(input())\n",
        "x=list(map(int,input().split()))\n",
        "so_lon_nhat=max(x)\n",
        "print(so_lon_nhat)"
      ],
      "metadata": {
        "colab": {
          "base_uri": "https://localhost:8080/"
        },
        "id": "2qXDVY2FrNUt",
        "outputId": "30501168-b7f9-4b34-9135-397f7ba18eeb"
      },
      "execution_count": null,
      "outputs": [
        {
          "output_type": "stream",
          "name": "stdout",
          "text": [
            "5\n",
            "1 2 3\n",
            "3\n"
          ]
        }
      ]
    },
    {
      "cell_type": "markdown",
      "source": [
        "# **07/11/2023**"
      ],
      "metadata": {
        "id": "XeouFyVM9uwz"
      }
    },
    {
      "cell_type": "markdown",
      "source": [
        "câu C\n"
      ],
      "metadata": {
        "id": "BcQeVyOF-Rbx"
      }
    },
    {
      "cell_type": "code",
      "source": [
        "def f(n):\n",
        "  if n<=2:\n",
        "    return(1)\n",
        "  else:\n",
        "    return f(n-1)+ f(n-2)\n",
        "n=int(input())\n",
        "ket_qua=f(n)\n",
        "print(ket_qua)"
      ],
      "metadata": {
        "colab": {
          "base_uri": "https://localhost:8080/"
        },
        "id": "pknt2E8t8L87",
        "outputId": "1e53f397-0e37-44d0-ff1b-c41d35e8ae76"
      },
      "execution_count": null,
      "outputs": [
        {
          "output_type": "stream",
          "name": "stdout",
          "text": [
            "0\n",
            "1\n"
          ]
        }
      ]
    },
    {
      "cell_type": "markdown",
      "source": [
        "câu D"
      ],
      "metadata": {
        "id": "LUJfNn2n-TMp"
      }
    },
    {
      "cell_type": "code",
      "source": [
        "m=int(input())\n",
        "F_1=1\n",
        "F_2=1\n",
        "n=2\n",
        "while True:\n",
        "  F_n=F_1 +F_2\n",
        "  n+=1\n",
        "  if F_n > m:\n",
        "    break\n",
        "  F_1=F_2\n",
        "  F_2=F_n\n",
        "print(n-1)"
      ],
      "metadata": {
        "colab": {
          "base_uri": "https://localhost:8080/"
        },
        "id": "U60-BoTX-mdf",
        "outputId": "3d229b94-c9a6-49db-fd6b-36fa7beb7a1f"
      },
      "execution_count": null,
      "outputs": [
        {
          "output_type": "stream",
          "name": "stdout",
          "text": [
            "3\n",
            "4\n"
          ]
        }
      ]
    },
    {
      "cell_type": "markdown",
      "source": [
        "câu A\n"
      ],
      "metadata": {
        "id": "Z-y740E_CS6v"
      }
    },
    {
      "cell_type": "code",
      "source": [],
      "metadata": {
        "id": "v_4zf94nCTjT"
      },
      "execution_count": null,
      "outputs": []
    },
    {
      "cell_type": "code",
      "source": [
        "n1 ,n2=map(int, input().split())\n",
        "ket_qua=[]\n",
        "n= 0\n",
        "while True:\n",
        "  a=n**2 - 100*n +1\n",
        "  if a > n2:\n",
        "    break\n",
        "  if n1<=a and a<n2:\n",
        "    ket_qua.append(n)\n",
        "  n += 1\n",
        "if(len(ket_qua))==0:\n",
        "  print(\"vo_nghiem\")\n",
        "else:\n",
        "  print(len(ket_qua))\n",
        "  print(*ket_qua)"
      ],
      "metadata": {
        "id": "HGmtP4tlCbSm",
        "colab": {
          "base_uri": "https://localhost:8080/",
          "height": 262
        },
        "outputId": "84f683ff-03a0-4006-a846-15e2a2cf7a1b"
      },
      "execution_count": null,
      "outputs": [
        {
          "name": "stdout",
          "output_type": "stream",
          "text": [
            "0 100\n"
          ]
        },
        {
          "output_type": "error",
          "ename": "AttributeError",
          "evalue": "ignored",
          "traceback": [
            "\u001b[0;31m---------------------------------------------------------------------------\u001b[0m",
            "\u001b[0;31mAttributeError\u001b[0m                            Traceback (most recent call last)",
            "\u001b[0;32m<ipython-input-13-228dcde795db>\u001b[0m in \u001b[0;36m<cell line: 4>\u001b[0;34m()\u001b[0m\n\u001b[1;32m      7\u001b[0m     \u001b[0;32mbreak\u001b[0m\u001b[0;34m\u001b[0m\u001b[0;34m\u001b[0m\u001b[0m\n\u001b[1;32m      8\u001b[0m   \u001b[0;32mif\u001b[0m \u001b[0mn1\u001b[0m\u001b[0;34m<=\u001b[0m\u001b[0ma\u001b[0m \u001b[0;32mand\u001b[0m \u001b[0ma\u001b[0m\u001b[0;34m<\u001b[0m\u001b[0mn2\u001b[0m\u001b[0;34m:\u001b[0m\u001b[0;34m\u001b[0m\u001b[0;34m\u001b[0m\u001b[0m\n\u001b[0;32m----> 9\u001b[0;31m     \u001b[0mket_qua\u001b[0m\u001b[0;34m.\u001b[0m\u001b[0mappend\u001b[0m\u001b[0;34m(\u001b[0m\u001b[0mn\u001b[0m\u001b[0;34m)\u001b[0m\u001b[0;34m\u001b[0m\u001b[0;34m\u001b[0m\u001b[0m\n\u001b[0m\u001b[1;32m     10\u001b[0m   \u001b[0mn\u001b[0m \u001b[0;34m+=\u001b[0m \u001b[0;36m1\u001b[0m\u001b[0;34m\u001b[0m\u001b[0;34m\u001b[0m\u001b[0m\n\u001b[1;32m     11\u001b[0m \u001b[0;32mif\u001b[0m\u001b[0;34m(\u001b[0m\u001b[0mlen\u001b[0m\u001b[0;34m(\u001b[0m\u001b[0mket_qua\u001b[0m\u001b[0;34m)\u001b[0m\u001b[0;34m)\u001b[0m\u001b[0;34m==\u001b[0m\u001b[0;36m0\u001b[0m\u001b[0;34m:\u001b[0m\u001b[0;34m\u001b[0m\u001b[0;34m\u001b[0m\u001b[0m\n",
            "\u001b[0;31mAttributeError\u001b[0m: 'tuple' object has no attribute 'append'"
          ]
        }
      ]
    },
    {
      "cell_type": "markdown",
      "source": [
        "câu E"
      ],
      "metadata": {
        "id": "sler1O8NEFYP"
      }
    },
    {
      "cell_type": "code",
      "source": [
        "n=int(input())\n",
        "def f(n):\n",
        "  if n<=2:\n",
        "    return 1\n",
        "  else:\n",
        "    return f(n-1) + f(n-2)\n",
        "if n==f(n):\n",
        "  print(\"YES\")\n",
        "else:\n",
        "  print(\"NO\")"
      ],
      "metadata": {
        "id": "eqgBu6P0R7px",
        "colab": {
          "base_uri": "https://localhost:8080/"
        },
        "outputId": "a177beb2-199c-4829-8e3d-6edda766ec24"
      },
      "execution_count": null,
      "outputs": [
        {
          "output_type": "stream",
          "name": "stdout",
          "text": [
            "1\n",
            "YES\n"
          ]
        }
      ]
    },
    {
      "cell_type": "markdown",
      "source": [
        "câu B"
      ],
      "metadata": {
        "id": "LOYZtQGXR8eZ"
      }
    },
    {
      "cell_type": "code",
      "source": [
        "def s(n):\n",
        "    return 1/n\n",
        "m = float(input())\n",
        "end = 1\n",
        "while True:\n",
        "    tong = sum(s(n) for n in range(1, end+1))\n",
        "    if tong > m:\n",
        "        if m >= sum(s(n) for n in range(1, end)) and end > 1:\n",
        "            print(end-1)\n",
        "        else: print('NULL')\n",
        "        break\n",
        "    end += 1"
      ],
      "metadata": {
        "id": "18KWTEocT0U2",
        "colab": {
          "base_uri": "https://localhost:8080/"
        },
        "outputId": "125b400a-6828-47c0-8454-4cba1f6e3fa0"
      },
      "execution_count": null,
      "outputs": [
        {
          "output_type": "stream",
          "name": "stdout",
          "text": [
            "2\n",
            "3\n"
          ]
        }
      ]
    },
    {
      "cell_type": "markdown",
      "source": [
        "# 9/11/2023"
      ],
      "metadata": {
        "id": "oKBKB3DbHNCi"
      }
    },
    {
      "cell_type": "markdown",
      "source": [
        "câu F"
      ],
      "metadata": {
        "id": "MTjxFY6iLoiA"
      }
    },
    {
      "cell_type": "code",
      "source": [
        "A=[]\n",
        "m,n=map(int,input().split())\n",
        "for i in range(m):\n",
        "  hang_i=list(map(int,input().split()))\n",
        "  A.append(hang_i)\n",
        "for i in range(m):\n",
        "  for j in range(n):\n",
        "    if j !=n-1:\n",
        "      print(A[i][j],end=' ')\n",
        "    else:\n",
        "      print(A[i][j])"
      ],
      "metadata": {
        "id": "DGs9hfqSHP1r",
        "colab": {
          "base_uri": "https://localhost:8080/"
        },
        "outputId": "a32751e3-80ba-426e-d165-c3c7a8fce0ee"
      },
      "execution_count": null,
      "outputs": [
        {
          "output_type": "stream",
          "name": "stdout",
          "text": [
            "2 2\n",
            "1 2 \n",
            "3 4\n",
            "1 2\n",
            "3 4\n"
          ]
        }
      ]
    },
    {
      "cell_type": "markdown",
      "source": [
        "câu G"
      ],
      "metadata": {
        "id": "gkHdZdXvOeAB"
      }
    },
    {
      "cell_type": "code",
      "source": [
        "m,n,p=map(int,input().split())\n",
        "A=[list(map(int,input().split())) for _ in range(m)]\n",
        "B= [list(map(int,input().split())) for _ in range(n)]\n",
        "C=[[0 for _ in range(p)] for _ in range(m)]\n",
        "for i in range(m):\n",
        "  for k in range(p):\n",
        "    for j in range(n):\n",
        "      C[i][k] += A[i][j] * B[j][k]\n",
        "for i in range(m):\n",
        "  print(*C[i])"
      ],
      "metadata": {
        "colab": {
          "base_uri": "https://localhost:8080/"
        },
        "id": "ZUebSpT3OfeY",
        "outputId": "28e30b52-a7cb-471c-b5bf-5904af584663"
      },
      "execution_count": null,
      "outputs": [
        {
          "output_type": "stream",
          "name": "stdout",
          "text": [
            "2 2 2\n",
            "1 0\n",
            "0 1\n",
            "1 3\n",
            "4 5\n",
            "1 3\n",
            "4 5\n"
          ]
        }
      ]
    },
    {
      "cell_type": "markdown",
      "source": [
        "câu H"
      ],
      "metadata": {
        "id": "cevHsuAy_8vX"
      }
    },
    {
      "cell_type": "code",
      "source": [
        "m,n = map(int,input().split())\n",
        "k,l = map(int,input().split())\n",
        "matrix=[list(map(int,input().split())) for _ in range(m)]\n",
        "for i in range(m):\n",
        "  matrix[i][k-1],matrix[i][l-1] = matrix[i][l-1],matrix[i][k-1]\n",
        "for a in matrix:\n",
        "  print(*a)\n",
        "\n"
      ],
      "metadata": {
        "colab": {
          "base_uri": "https://localhost:8080/"
        },
        "id": "YvSUZ26C__80",
        "outputId": "cc806902-182e-4499-d71d-20a02fb34c9a"
      },
      "execution_count": null,
      "outputs": [
        {
          "output_type": "stream",
          "name": "stdout",
          "text": [
            "2 3 3 2\n",
            "1 2 3\n",
            "4 5 6\n",
            "1 3 2\n",
            "4 6 5\n"
          ]
        }
      ]
    },
    {
      "cell_type": "markdown",
      "source": [
        "câu I\n"
      ],
      "metadata": {
        "id": "EFzx-CTZomvF"
      }
    },
    {
      "cell_type": "code",
      "source": [
        "def khoang_cach(x0 ,y0 ,xi ,yi ):\n",
        "    return ((x0+xi)**2 +(y0 +yi)**2)**0.5\n",
        "\n",
        "def classify_region(x0 ,y0 ,R0 ,R1 ,diem):\n",
        "    F0_diem = []\n",
        "    F1_diem = []\n",
        "    F2_diem = []\n",
        "    for xi, yi in diem:\n",
        "       r = khoang_cach(x0 ,y0 ,xi ,yi)\n",
        "       if r < R0 :\n",
        "            F0_diem.append((xi ,yi))\n",
        "       elif R0 <= r <R1:\n",
        "            F1_diem.append((xi ,yi))\n",
        "       else:\n",
        "            F2_diem.append((xi,yi))\n",
        "    return F0_diem , F1_diem ,F2_diem\n",
        "\n",
        "x0 , y0 = map(int, input().split())\n",
        "R0 ,R1 = map(int, input().split())\n",
        "m = int(input())\n",
        "diem = [tuple(map(int, input().split())) for _ in range(m)]\n",
        "F0_diem ,F1_diem ,F2_diem = classify_region(x0 ,y0 ,R0 ,R1 ,diem)\n",
        "print(f\"F0 {len(F0_diem)}\")\n",
        "for diem in F0_diem:\n",
        "  print(*diem)\n",
        "print(f\"F1 {len(F0_diem)}\")\n",
        "for diem in F1_diem:\n",
        "  print(*diem)\n",
        "print(f\"F2 {len(F0_diem)}\")\n",
        "for diem in F2_diem:\n",
        "  print(*diem)"
      ],
      "metadata": {
        "colab": {
          "base_uri": "https://localhost:8080/"
        },
        "id": "_bIUMau0qGb9",
        "outputId": "1befb6cf-b3e7-4d02-e17c-ddf8ad38729b"
      },
      "execution_count": null,
      "outputs": [
        {
          "output_type": "stream",
          "name": "stdout",
          "text": [
            "0 0\n",
            "1 2\n",
            "3\n",
            "0 0\n",
            "1 1\n",
            "3 4\n",
            "F0 1\n",
            "0 0\n",
            "F1 1\n",
            "1 1\n",
            "F2 1\n",
            "3 4\n"
          ]
        }
      ]
    },
    {
      "cell_type": "code",
      "source": [
        "def khoang_cach(x0, y0, xi, yi):\n",
        "    return ((x0 + xi) ** 2 + (y0 + yi) ** 2) ** 0.5\n",
        "\n",
        "def classify_region(x0, y0, R0, R1, diem):\n",
        "   result = {\"F0\":[], \"F1\":[], \"F2\":[]}\n",
        "   for xi,yi in diem:\n",
        "    r = khoang_cach(x0 ,y0, xi,yi)\n",
        "    if r <R0:\n",
        "      result[\"F0\"].append((xi,yi))\n",
        "    elif R0 <= r <R1:\n",
        "      result[\"F1\"].append((xi,yi))\n",
        "    else:\n",
        "      result[\"F2\"].append((xi,yi))\n",
        "   return result\n",
        "x0 ,y0 = map(int,input().split())\n",
        "R0 ,R1 = map(int,input().split())\n",
        "m = int(input())\n",
        "diem = [tuple(map(int,input().split())) for _ in range(m)]\n",
        "result = classify_region(x0, y0 ,R0 , R1, diem)\n",
        "for key,values in result.items():\n",
        "  print(f\"{key}\",f\"{len(values)}\")\n",
        "  for diem in values:\n",
        "    print(*diem)"
      ],
      "metadata": {
        "colab": {
          "base_uri": "https://localhost:8080/"
        },
        "id": "8n2K10Gxy-vr",
        "outputId": "d93cd73c-7352-4390-86f2-b037a9b25855"
      },
      "execution_count": null,
      "outputs": [
        {
          "output_type": "stream",
          "name": "stdout",
          "text": [
            "0 0\n",
            "1 2\n",
            "3\n",
            "0 0\n",
            "1 1\n",
            "3 4\n",
            "F0 1\n",
            "0 0\n",
            "F1 1\n",
            "1 1\n",
            "F2 1\n",
            "3 4\n"
          ]
        }
      ]
    },
    {
      "cell_type": "markdown",
      "source": [
        "16/11\n"
      ],
      "metadata": {
        "id": "5B7GDunBYYwo"
      }
    },
    {
      "cell_type": "markdown",
      "source": [
        "bai C"
      ],
      "metadata": {
        "id": "YQk-3n6sYabe"
      }
    },
    {
      "cell_type": "code",
      "source": [
        "a = \"No data\"\n",
        "n, x = map(int, input().split())\n",
        "for _ in range(n):\n",
        "    m, d = map(int, input().split())\n",
        "    if m == x:\n",
        "        a = d\n",
        "        break\n",
        "print(a)"
      ],
      "metadata": {
        "colab": {
          "base_uri": "https://localhost:8080/"
        },
        "id": "UpKCoCB-Yck1",
        "outputId": "cd80953e-8a6b-4e71-d289-d2950a440ece"
      },
      "execution_count": null,
      "outputs": [
        {
          "output_type": "stream",
          "name": "stdout",
          "text": [
            "13 5101\n",
            "8325 10\n",
            "3565 6\n",
            "5101 6\n",
            "6\n"
          ]
        }
      ]
    },
    {
      "cell_type": "markdown",
      "source": [
        "bai D\n"
      ],
      "metadata": {
        "id": "AzzlxfzTZdOY"
      }
    },
    {
      "cell_type": "code",
      "source": [
        "n,D_min = map(int,input().split())\n",
        "Diem=[]\n",
        "for _ in range(n):\n",
        "  m,D= map(int,input().split())\n",
        "  if D >= D_min:\n",
        "    Diem.append((m,D))\n",
        "print(\"Tong so sinh vien tham du ky thi cuoi ky:\",len(Diem))\n",
        "for sinh_vien in Diem:\n",
        "  print(sinh_vien[0],sinh_vien[1])"
      ],
      "metadata": {
        "colab": {
          "base_uri": "https://localhost:8080/"
        },
        "id": "2pUWhmCYZd2l",
        "outputId": "80049699-c816-4221-f475-82a04bfd1e32"
      },
      "execution_count": null,
      "outputs": [
        {
          "output_type": "stream",
          "name": "stdout",
          "text": [
            "7 5\n",
            "4870 8\n",
            "7339 4\n",
            "7075 7\n",
            "8573 9\n",
            "1906 4\n",
            "1445 3\n",
            "5248 10\n",
            "Tong so sinh vien tham du ky thi cuoi ky: 4\n",
            "4870 8\n",
            "7075 7\n",
            "8573 9\n",
            "5248 10\n"
          ]
        }
      ]
    },
    {
      "cell_type": "markdown",
      "source": [
        "bai E\n"
      ],
      "metadata": {
        "id": "Amyku84Cb5Mt"
      }
    },
    {
      "cell_type": "code",
      "source": [
        "\n",
        "n,MSSV,D = map(int,input().split())\n",
        "diem_thi=[]\n",
        "for _ in range(n):\n",
        "  m,d=map(int,input().split())\n",
        "  diem_thi.append((m,d))\n",
        "diem_thi.append((MSSV,D))\n",
        "diem_thi.sort(key=lambda x: x[0])\n",
        "for student in diem_thi:\n",
        "  print(student[0],student[1])"
      ],
      "metadata": {
        "colab": {
          "base_uri": "https://localhost:8080/"
        },
        "id": "J0gRXdaub53r",
        "outputId": "4ec7d473-5fdf-4d22-f2dd-c4f96d2d0dab"
      },
      "execution_count": null,
      "outputs": [
        {
          "output_type": "stream",
          "name": "stdout",
          "text": [
            "7 2741 5\n",
            "1253 9\n",
            "1799 3\n",
            "2835 8\n",
            "4489 6\n",
            "6731 5\n",
            "7964 4\n",
            "9210 6\n",
            "1253 9\n",
            "1799 3\n",
            "2741 5\n",
            "2835 8\n",
            "4489 6\n",
            "6731 5\n",
            "7964 4\n",
            "9210 6\n"
          ]
        }
      ]
    }
  ]
}